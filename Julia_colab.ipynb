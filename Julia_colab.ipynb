{
  "cells": [
    {
      "cell_type": "code",
      "execution_count": 1,
      "metadata": {
        "colab": {
          "base_uri": "https://localhost:8080/",
          "height": 103
        },
        "id": "GIeFXS0F0zww",
        "outputId": "4c458f11-0af7-4393-d810-597a54ef76cb"
      },
      "outputs": [
        {
          "output_type": "display_data",
          "data": {
            "text/plain": [
              "  Unrecognized magic \u001b[36m%%shell\u001b[39m.\n",
              "\n",
              "  Julia does not use the IPython \u001b[36m%magic\u001b[39m syntax. To interact with the IJulia\n",
              "  kernel, use \u001b[36mIJulia.somefunction(...)\u001b[39m, for example. Julia macros, string\n",
              "  macros, and functions can be used to accomplish most of the other\n",
              "  functionalities of IPython magics."
            ],
            "text/markdown": "Unrecognized magic `%%shell`.\n\nJulia does not use the IPython `%magic` syntax.   To interact with the IJulia kernel, use `IJulia.somefunction(...)`, for example.  Julia macros, string macros, and functions can be used to accomplish most of the other functionalities of IPython magics.\n",
            "text/latex": "Unrecognized magic \\texttt{\\%\\%shell}.\n\nJulia does not use the IPython \\texttt{\\%magic} syntax.   To interact with the IJulia kernel, use \\texttt{IJulia.somefunction(...)}, for example.  Julia macros, string macros, and functions can be used to accomplish most of the other functionalities of IPython magics.\n\n"
          },
          "metadata": {}
        }
      ],
      "source": [
        "%%shell\n",
        "set -e\n",
        "\n",
        "#---------------------------------------------------#\n",
        "JULIA_VERSION=\"1.7.1\" # any version ≥ 0.7.0\n",
        "JULIA_PACKAGES=\"IJulia CSV DataFrames Random Statistics Distributions LinearAlgebra SparseArrays Printf JWAS\"  # CSV DataFrames Random Statistics JWAS Distributions LinearAlgebra\n",
        "JULIA_PACKAGES_IF_GPU=\"\"\n",
        "JULIA_NUM_THREADS=4\n",
        "#---------------------------------------------------#\n",
        "\n",
        "if [ -n \"$COLAB_GPU\" ] && [ -z `which julia` ]; then\n",
        "  # Install Julia\n",
        "  JULIA_VER=`cut -d '.' -f -2 <<< \"$JULIA_VERSION\"`\n",
        "  echo \"Installing Julia $JULIA_VERSION on the current Colab Runtime...\"\n",
        "  BASE_URL=\"https://julialang-s3.julialang.org/bin/linux/x64\"\n",
        "  URL=\"$BASE_URL/$JULIA_VER/julia-$JULIA_VERSION-linux-x86_64.tar.gz\"\n",
        "  wget -nv $URL -O /tmp/julia.tar.gz # -nv means \"not verbose\"\n",
        "  tar -x -f /tmp/julia.tar.gz -C /usr/local --strip-components 1\n",
        "  rm /tmp/julia.tar.gz\n",
        "\n",
        "  # Install Packages\n",
        "  if [ \"$COLAB_GPU\" = \"1\" ]; then\n",
        "      JULIA_PACKAGES=\"$JULIA_PACKAGES $JULIA_PACKAGES_IF_GPU\"\n",
        "  fi\n",
        "  for PKG in `echo $JULIA_PACKAGES`; do\n",
        "    echo \"Installing Julia package $PKG...\"\n",
        "    julia -e 'using Pkg; pkg\"add '$PKG'; precompile;\"' &> /dev/null\n",
        "  done\n",
        "\n",
        "  # Install kernel and rename it to \"julia\"\n",
        "  echo \"Installing IJulia kernel...\"\n",
        "  julia -e 'using IJulia; IJulia.installkernel(\"julia\", env=Dict(\n",
        "      \"JULIA_NUM_THREADS\"=>\"'\"$JULIA_NUM_THREADS\"'\"))'\n",
        "  KERNEL_DIR=`julia -e \"using IJulia; print(IJulia.kerneldir())\"`\n",
        "  KERNEL_NAME=`ls -d \"$KERNEL_DIR\"/julia*`\n",
        "  mv -f $KERNEL_NAME \"$KERNEL_DIR\"/julia  \n",
        "\n",
        "  echo ''\n",
        "  echo \"Successfully installed `julia -v`!\"\n",
        "  echo \"Please reload this page (press Ctrl+R, ⌘+R, or the F5 key) then\"\n",
        "  echo \"jump to the 'Checking the Installation' section.\"\n",
        "fi"
      ]
    },
    {
      "cell_type": "code",
      "execution_count": 2,
      "metadata": {
        "colab": {
          "base_uri": "https://localhost:8080/"
        },
        "id": "EEzvvzCl1i0F",
        "outputId": "79aa6d2c-23b0-4eb0-b086-d89cb798b885"
      },
      "outputs": [
        {
          "output_type": "stream",
          "name": "stdout",
          "text": [
            "Julia Version 1.7.1\n",
            "Commit ac5cc99908 (2021-12-22 19:35 UTC)\n",
            "Platform Info:\n",
            "  OS: Linux (x86_64-pc-linux-gnu)\n",
            "  CPU: Intel(R) Xeon(R) CPU @ 2.30GHz\n",
            "  WORD_SIZE: 64\n",
            "  LIBM: libopenlibm\n",
            "  LLVM: libLLVM-12.0.1 (ORCJIT, haswell)\n",
            "Environment:\n",
            "  JULIA_NUM_THREADS = 4\n"
          ]
        }
      ],
      "source": [
        "versioninfo()"
      ]
    },
    {
      "cell_type": "code",
      "source": [
        "M = rand(Binomial(2,0.5),10,20)"
      ],
      "metadata": {
        "id": "oy0RKeRAIWY1",
        "outputId": "4268c7dd-6ac5-4ca9-ecc7-6adc71d48acd",
        "colab": {
          "base_uri": "https://localhost:8080/"
        }
      },
      "execution_count": 6,
      "outputs": [
        {
          "output_type": "execute_result",
          "data": {
            "text/plain": [
              "10×20 Matrix{Int64}:\n",
              " 1  1  0  2  0  2  1  0  2  0  1  2  2  1  2  1  1  0  0  1\n",
              " 0  0  0  0  1  1  0  1  2  2  1  1  0  1  2  1  2  0  1  1\n",
              " 1  2  0  0  1  1  0  2  2  1  0  0  1  1  1  2  0  1  2  0\n",
              " 1  1  1  1  0  2  0  2  1  0  1  1  2  2  1  1  1  1  0  0\n",
              " 1  0  1  2  1  1  1  0  2  0  1  0  1  1  1  1  1  2  0  0\n",
              " 1  1  0  0  2  0  0  1  2  0  0  1  0  0  2  0  0  1  2  1\n",
              " 0  1  0  1  1  1  1  2  1  1  2  2  2  1  1  1  2  0  1  2\n",
              " 1  2  2  2  1  1  2  1  0  2  0  2  2  2  2  1  0  2  1  2\n",
              " 2  1  1  0  2  1  1  1  1  0  1  0  1  0  2  2  1  0  1  0\n",
              " 1  1  0  1  1  1  2  0  1  0  1  0  0  1  0  0  0  0  2  2"
            ]
          },
          "metadata": {},
          "execution_count": 6
        }
      ]
    },
    {
      "cell_type": "code",
      "source": [
        "using Distributions"
      ],
      "metadata": {
        "id": "Z164UcXpInP_"
      },
      "execution_count": 5,
      "outputs": []
    },
    {
      "cell_type": "code",
      "source": [
        "using SparseArrays, LinearAlgebra\n",
        "x=[1,1,2,2,2,2,3,3,4,1]\n",
        "y=[1.1,1.2,1.9,1.2,2.0,1.7,1.0,1.7,1.1,1.7]\n",
        "n = size(x,1)"
      ],
      "metadata": {
        "id": "C0d7IafiI3q3",
        "outputId": "78e90a2a-c1f4-4a84-efd8-055acc6d1cf4",
        "colab": {
          "base_uri": "https://localhost:8080/"
        }
      },
      "execution_count": 7,
      "outputs": [
        {
          "output_type": "execute_result",
          "data": {
            "text/plain": [
              "10"
            ]
          },
          "metadata": {},
          "execution_count": 7
        }
      ]
    },
    {
      "cell_type": "code",
      "source": [
        "spzeros(2,2)"
      ],
      "metadata": {
        "id": "NBPVjEw6JRoo",
        "outputId": "b9754631-2b40-4cb7-895a-ce173a9dca68",
        "colab": {
          "base_uri": "https://localhost:8080/"
        }
      },
      "execution_count": 8,
      "outputs": [
        {
          "output_type": "execute_result",
          "data": {
            "text/plain": [
              "2×2 SparseMatrixCSC{Float64, Int64} with 0 stored entries:\n",
              "  ⋅    ⋅ \n",
              "  ⋅    ⋅ "
            ]
          },
          "metadata": {},
          "execution_count": 8
        }
      ]
    },
    {
      "cell_type": "code",
      "source": [
        "\n",
        "for i=1:size(u,1)\n",
        "    result[i] = u[i] + v[i]\n",
        "end\n",
        "[u v result]"
      ],
      "metadata": {
        "id": "ANgY7EWpJ1MM",
        "outputId": "3e164fcc-219d-4181-c549-993b080e5dfc",
        "colab": {
          "base_uri": "https://localhost:8080/",
          "height": 232
        }
      },
      "execution_count": 11,
      "outputs": [
        {
          "output_type": "error",
          "ename": "LoadError",
          "evalue": "ignored",
          "traceback": [
            "UndefVarError: u not defined",
            "",
            "Stacktrace:",
            " [1] top-level scope",
            "   @ ./In[11]:2",
            " [2] eval",
            "   @ ./boot.jl:373 [inlined]",
            " [3] include_string(mapexpr::typeof(REPL.softscope), mod::Module, code::String, filename::String)",
            "   @ Base ./loading.jl:1196"
          ]
        }
      ]
    },
    {
      "cell_type": "code",
      "source": [
        "result = zero(u)\n",
        "for i=1:size(u,1)\n",
        "    result[i] = u[i] + v[i]\n",
        "end\n",
        "[u v result]"
      ],
      "metadata": {
        "id": "bk-Iw1KOJ4gu",
        "outputId": "abe04e69-d063-4a98-f5f9-e92fa836d5c1",
        "colab": {
          "base_uri": "https://localhost:8080/",
          "height": 232
        }
      },
      "execution_count": 12,
      "outputs": [
        {
          "output_type": "error",
          "ename": "LoadError",
          "evalue": "ignored",
          "traceback": [
            "UndefVarError: u not defined",
            "",
            "Stacktrace:",
            " [1] top-level scope",
            "   @ In[12]:1",
            " [2] eval",
            "   @ ./boot.jl:373 [inlined]",
            " [3] include_string(mapexpr::typeof(REPL.softscope), mod::Module, code::String, filename::String)",
            "   @ Base ./loading.jl:1196"
          ]
        }
      ]
    },
    {
      "cell_type": "code",
      "source": [
        "r = range(0, step=0.1, stop=1)"
      ],
      "metadata": {
        "id": "KqO4d_QcJ6AJ",
        "outputId": "45bbffe5-98b8-482e-f56c-281df82481f1",
        "colab": {
          "base_uri": "https://localhost:8080/"
        }
      },
      "execution_count": 13,
      "outputs": [
        {
          "output_type": "execute_result",
          "data": {
            "text/plain": [
              "0.0:0.1:1.0"
            ]
          },
          "metadata": {},
          "execution_count": 13
        }
      ]
    },
    {
      "cell_type": "code",
      "source": [
        "# This works too\n",
        "\n",
        "r = 0:0.1:1"
      ],
      "metadata": {
        "id": "yRQcmG_6KMHP",
        "outputId": "ac589a8e-2361-48b1-b8ec-58f31b0e8127",
        "colab": {
          "base_uri": "https://localhost:8080/"
        }
      },
      "execution_count": 14,
      "outputs": [
        {
          "output_type": "execute_result",
          "data": {
            "text/plain": [
              "0.0:0.1:1.0"
            ]
          },
          "metadata": {},
          "execution_count": 14
        }
      ]
    },
    {
      "cell_type": "code",
      "source": [
        "sin.(r)"
      ],
      "metadata": {
        "id": "Wo8_bTR9KOnF",
        "outputId": "f7338baf-4bc2-4c1b-b357-7de81988901b",
        "colab": {
          "base_uri": "https://localhost:8080/"
        }
      },
      "execution_count": 15,
      "outputs": [
        {
          "output_type": "execute_result",
          "data": {
            "text/plain": [
              "11-element Vector{Float64}:\n",
              " 0.0\n",
              " 0.09983341664682815\n",
              " 0.19866933079506122\n",
              " 0.29552020666133955\n",
              " 0.3894183423086505\n",
              " 0.479425538604203\n",
              " 0.5646424733950354\n",
              " 0.644217687237691\n",
              " 0.7173560908995228\n",
              " 0.7833269096274834\n",
              " 0.8414709848078965"
            ]
          },
          "metadata": {},
          "execution_count": 15
        }
      ]
    },
    {
      "cell_type": "code",
      "source": [
        "map(sin,r)"
      ],
      "metadata": {
        "id": "Q0sHU1_XK25x",
        "outputId": "57f4d9e4-0b3d-4ba6-875a-00d25798dc70",
        "colab": {
          "base_uri": "https://localhost:8080/"
        }
      },
      "execution_count": 20,
      "outputs": [
        {
          "output_type": "execute_result",
          "data": {
            "text/plain": [
              "11-element Vector{Float64}:\n",
              " 0.0\n",
              " 0.09983341664682815\n",
              " 0.19866933079506122\n",
              " 0.29552020666133955\n",
              " 0.3894183423086505\n",
              " 0.479425538604203\n",
              " 0.5646424733950354\n",
              " 0.644217687237691\n",
              " 0.7173560908995228\n",
              " 0.7833269096274834\n",
              " 0.8414709848078965"
            ]
          },
          "metadata": {},
          "execution_count": 20
        }
      ]
    },
    {
      "cell_type": "code",
      "source": [
        "# type of M\n",
        "typeof(M)"
      ],
      "metadata": {
        "id": "oGVNN5B_K-HE",
        "outputId": "6f405eea-e442-40bb-f6ae-e60319dee24a",
        "colab": {
          "base_uri": "https://localhost:8080/"
        }
      },
      "execution_count": 22,
      "outputs": [
        {
          "output_type": "execute_result",
          "data": {
            "text/plain": [
              "Matrix{Int64} (alias for Array{Int64, 2})"
            ]
          },
          "metadata": {},
          "execution_count": 22
        }
      ]
    },
    {
      "cell_type": "code",
      "source": [
        "# type of v\n",
        "typeof(v)"
      ],
      "metadata": {
        "id": "27Wd25S8LAxg",
        "outputId": "67ee815a-1652-4f47-c90a-7124c3d6e8d2",
        "colab": {
          "base_uri": "https://localhost:8080/",
          "height": 232
        }
      },
      "execution_count": 23,
      "outputs": [
        {
          "output_type": "error",
          "ename": "LoadError",
          "evalue": "ignored",
          "traceback": [
            "UndefVarError: v not defined",
            "",
            "Stacktrace:",
            " [1] top-level scope",
            "   @ In[23]:2",
            " [2] eval",
            "   @ ./boot.jl:373 [inlined]",
            " [3] include_string(mapexpr::typeof(REPL.softscope), mod::Module, code::String, filename::String)",
            "   @ Base ./loading.jl:1196"
          ]
        }
      ]
    },
    {
      "cell_type": "code",
      "source": [
        "# Example\n",
        "mutable struct BankAccount\n",
        "    accountNumber::Int64\n",
        "    firstName::String\n",
        "    lastName::String\n",
        "    balance::Float64\n",
        "end"
      ],
      "metadata": {
        "id": "qtaux3-ELFTi"
      },
      "execution_count": 24,
      "outputs": []
    },
    {
      "cell_type": "code",
      "source": [
        "fieldnames(BankAccount)"
      ],
      "metadata": {
        "id": "wA_EtHbuLVrF",
        "outputId": "a0594012-45c4-4ce8-9817-a502c20c7b68",
        "colab": {
          "base_uri": "https://localhost:8080/"
        }
      },
      "execution_count": 26,
      "outputs": [
        {
          "output_type": "execute_result",
          "data": {
            "text/plain": [
              "(:accountNumber, :firstName, :lastName, :balance)"
            ]
          },
          "metadata": {},
          "execution_count": 26
        }
      ]
    },
    {
      "cell_type": "code",
      "source": [
        "BankAccount.types"
      ],
      "metadata": {
        "id": "CimBp8nCLdmS",
        "outputId": "6761ceb4-697c-4bf9-fa75-36c9218f2df3",
        "colab": {
          "base_uri": "https://localhost:8080/"
        }
      },
      "execution_count": 27,
      "outputs": [
        {
          "output_type": "execute_result",
          "data": {
            "text/plain": [
              "svec(Int64, String, String, Float64)"
            ]
          },
          "metadata": {},
          "execution_count": 27
        }
      ]
    },
    {
      "cell_type": "code",
      "source": [
        "a1 = BankAccount(1234,\"Tom\",\"Smith\",1000.0)\n",
        "a2 = BankAccount(4321,\"Jim\",\"Shanks\",500.0)\n",
        "a3 = BankAccount(9321,\"Scott\",\"Williams\",500.0)"
      ],
      "metadata": {
        "id": "PWxzuT6ALiii",
        "outputId": "f3b1e6c3-14d4-4619-dd4d-c0b496e3c2cd",
        "colab": {
          "base_uri": "https://localhost:8080/"
        }
      },
      "execution_count": 28,
      "outputs": [
        {
          "output_type": "execute_result",
          "data": {
            "text/plain": [
              "BankAccount(9321, \"Scott\", \"Williams\", 500.0)"
            ]
          },
          "metadata": {},
          "execution_count": 28
        }
      ]
    },
    {
      "cell_type": "code",
      "source": [
        "a1.balance"
      ],
      "metadata": {
        "id": "__lpl7FYLsYk",
        "outputId": "915aa48b-a3a7-46ec-bf2d-64c00cf56bba",
        "colab": {
          "base_uri": "https://localhost:8080/"
        }
      },
      "execution_count": 29,
      "outputs": [
        {
          "output_type": "execute_result",
          "data": {
            "text/plain": [
              "1000.0"
            ]
          },
          "metadata": {},
          "execution_count": 29
        }
      ]
    },
    {
      "cell_type": "code",
      "source": [
        "# can modify fields of mutable structs\n",
        "a1.balance = 2000.50"
      ],
      "metadata": {
        "id": "c5w7rgtYLwpP",
        "outputId": "d5bda305-9c5e-4d3d-ade7-3821ba50c263",
        "colab": {
          "base_uri": "https://localhost:8080/"
        }
      },
      "execution_count": 30,
      "outputs": [
        {
          "output_type": "execute_result",
          "data": {
            "text/plain": [
              "2000.5"
            ]
          },
          "metadata": {},
          "execution_count": 30
        }
      ]
    },
    {
      "cell_type": "code",
      "source": [
        "a2.balance"
      ],
      "metadata": {
        "id": "340pP35OL7i3",
        "outputId": "bcef7b7a-507e-4942-e11a-bc9502c35541",
        "colab": {
          "base_uri": "https://localhost:8080/"
        }
      },
      "execution_count": 31,
      "outputs": [
        {
          "output_type": "execute_result",
          "data": {
            "text/plain": [
              "500.0"
            ]
          },
          "metadata": {},
          "execution_count": 31
        }
      ]
    },
    {
      "cell_type": "code",
      "source": [
        "a2.firstName"
      ],
      "metadata": {
        "id": "Q9cIDbtYL9Of",
        "outputId": "3d7ea1f9-8745-4c41-faa8-bf9e688dd66d",
        "colab": {
          "base_uri": "https://localhost:8080/"
        }
      },
      "execution_count": 32,
      "outputs": [
        {
          "output_type": "execute_result",
          "data": {
            "text/plain": [
              "\"Jim\""
            ]
          },
          "metadata": {},
          "execution_count": 32
        }
      ]
    },
    {
      "cell_type": "code",
      "source": [
        "#= \n",
        "d is an empty dictionary that can store \"BackAccounts\" \n",
        "with an interger key (i.e., with the account number as the key)\n",
        "=#\n",
        "\n",
        "d = Dict{Int64,BankAccount}()"
      ],
      "metadata": {
        "id": "4yBrW3TRL_03",
        "outputId": "a55ebf68-1a5e-4677-f050-751352c2b3b6",
        "colab": {
          "base_uri": "https://localhost:8080/"
        }
      },
      "execution_count": 33,
      "outputs": [
        {
          "output_type": "execute_result",
          "data": {
            "text/plain": [
              "Dict{Int64, BankAccount}()"
            ]
          },
          "metadata": {},
          "execution_count": 33
        }
      ]
    },
    {
      "cell_type": "code",
      "source": [
        "@show(a1)"
      ],
      "metadata": {
        "id": "oWlGe06CMJyV",
        "outputId": "901b6ecf-28f6-4833-c3be-8c3b1fa8bdbb",
        "colab": {
          "base_uri": "https://localhost:8080/"
        }
      },
      "execution_count": 34,
      "outputs": [
        {
          "output_type": "stream",
          "name": "stdout",
          "text": [
            "a1 = BankAccount(1234, \"Tom\", \"Smith\", 2000.5)\n"
          ]
        },
        {
          "output_type": "execute_result",
          "data": {
            "text/plain": [
              "BankAccount(1234, \"Tom\", \"Smith\", 2000.5)"
            ]
          },
          "metadata": {},
          "execution_count": 34
        }
      ]
    },
    {
      "cell_type": "code",
      "source": [
        "d[a1.accountNumber] = a1\n",
        "d"
      ],
      "metadata": {
        "id": "nAk62HqWMbxO",
        "outputId": "ce430c50-a045-48f5-c9e2-72ac6f53fb87",
        "colab": {
          "base_uri": "https://localhost:8080/"
        }
      },
      "execution_count": 35,
      "outputs": [
        {
          "output_type": "execute_result",
          "data": {
            "text/plain": [
              "Dict{Int64, BankAccount} with 1 entry:\n",
              "  1234 => BankAccount(1234, \"Tom\", \"Smith\", 2000.5)"
            ]
          },
          "metadata": {},
          "execution_count": 35
        }
      ]
    },
    {
      "cell_type": "code",
      "source": [
        "function addVectors(u,v)\n",
        "    if size(u,1) != size(v,1)\n",
        "        println(\"The size of u (= $(size(u,1))) is not equal to the size of v (= $(size(v,1))) \")\n",
        "        return []\n",
        "    end\n",
        "    result = zero(u)\n",
        "    for i=1:size(u,1)\n",
        "        result[i] = u[i] + v[i]\n",
        "    end\n",
        "    return result\n",
        "end"
      ],
      "metadata": {
        "id": "5IDLvcAdM1LA",
        "outputId": "037435aa-a5e2-4842-ca4c-133f1e33f77c",
        "colab": {
          "base_uri": "https://localhost:8080/"
        }
      },
      "execution_count": 36,
      "outputs": [
        {
          "output_type": "execute_result",
          "data": {
            "text/plain": [
              "addVectors (generic function with 1 method)"
            ]
          },
          "metadata": {},
          "execution_count": 36
        }
      ]
    },
    {
      "cell_type": "code",
      "source": [
        "function name_of_fcn(a,b,c)\n",
        "\n",
        "end"
      ],
      "metadata": {
        "id": "L0STtjN8M6bD",
        "outputId": "254fee04-bc1a-4cf3-c0ea-498892a483e5",
        "colab": {
          "base_uri": "https://localhost:8080/"
        }
      },
      "execution_count": 37,
      "outputs": [
        {
          "output_type": "execute_result",
          "data": {
            "text/plain": [
              "name_of_fcn (generic function with 1 method)"
            ]
          },
          "metadata": {},
          "execution_count": 37
        }
      ]
    },
    {
      "cell_type": "code",
      "source": [
        "function name_of_fcn(a; c=1)\n",
        "      a+c\n",
        "end"
      ],
      "metadata": {
        "id": "8dxHb463NLI6",
        "outputId": "801ddc40-b49a-4910-a1e4-d3273a5405ef",
        "colab": {
          "base_uri": "https://localhost:8080/"
        }
      },
      "execution_count": 39,
      "outputs": [
        {
          "output_type": "execute_result",
          "data": {
            "text/plain": [
              "name_of_fcn (generic function with 3 methods)"
            ]
          },
          "metadata": {},
          "execution_count": 39
        }
      ]
    },
    {
      "cell_type": "code",
      "source": [
        "name_of_fcn(2,c=100)"
      ],
      "metadata": {
        "id": "nLTErE7zNblC",
        "outputId": "834c94cc-d6e6-467a-bf34-7e49e149616d",
        "colab": {
          "base_uri": "https://localhost:8080/"
        }
      },
      "execution_count": 41,
      "outputs": [
        {
          "output_type": "execute_result",
          "data": {
            "text/plain": [
              "102"
            ]
          },
          "metadata": {},
          "execution_count": 41
        }
      ]
    },
    {
      "cell_type": "code",
      "source": [
        "using Printf # needed for formatted print commands"
      ],
      "metadata": {
        "id": "mpC0QlZHOHND"
      },
      "execution_count": 43,
      "outputs": []
    },
    {
      "cell_type": "code",
      "source": [
        "A = randn(5,3)"
      ],
      "metadata": {
        "id": "mHCiAeMJONjq",
        "outputId": "10c66208-9430-4d6c-8155-9db618b4aef4",
        "colab": {
          "base_uri": "https://localhost:8080/"
        }
      },
      "execution_count": 44,
      "outputs": [
        {
          "output_type": "execute_result",
          "data": {
            "text/plain": [
              "5×3 Matrix{Float64}:\n",
              " -0.109315    0.454418  -0.145999\n",
              "  1.37484    -1.34681   -0.349873\n",
              " -0.0700134   0.826333   1.98259\n",
              " -0.352404    0.607113  -0.124878\n",
              "  0.14788     0.897852  -0.885351"
            ]
          },
          "metadata": {},
          "execution_count": 44
        }
      ]
    },
    {
      "cell_type": "code",
      "source": [
        "out = open(\"outFile\",\"w\")\n",
        "n,p = size(A)\n",
        "for j=1:p\n",
        "    for i=1:n\n",
        "        @printf(out,\"%10.5f \", A[i,j])\n",
        "    end\n",
        "    @printf(out,\"\\n\")\n",
        "end\n",
        "close(out)"
      ],
      "metadata": {
        "id": "A1tT7fcQOf8d"
      },
      "execution_count": 45,
      "outputs": []
    },
    {
      "cell_type": "code",
      "source": [
        ";cat outFile"
      ],
      "metadata": {
        "id": "dOyb0wpiOqE4",
        "outputId": "55292f4c-f374-4e14-f6e5-1327c00e3dab",
        "colab": {
          "base_uri": "https://localhost:8080/"
        }
      },
      "execution_count": 46,
      "outputs": [
        {
          "output_type": "stream",
          "name": "stdout",
          "text": [
            "  -0.10932    1.37484   -0.07001   -0.35240    0.14788 \n",
            "   0.45442   -1.34681    0.82633    0.60711    0.89785 \n",
            "  -0.14600   -0.34987    1.98259   -0.12488   -0.88535 \n"
          ]
        }
      ]
    }
  ],
  "metadata": {
    "accelerator": "GPU",
    "colab": {
      "collapsed_sections": [],
      "name": "Julia_colab.ipynb",
      "provenance": []
    },
    "kernelspec": {
      "display_name": "Julia",
      "language": "julia",
      "name": "julia"
    },
    "language_info": {
      "file_extension": ".jl",
      "mimetype": "application/julia",
      "name": "julia"
    }
  },
  "nbformat": 4,
  "nbformat_minor": 0
}